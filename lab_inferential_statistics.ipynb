{
 "cells": [
  {
   "cell_type": "code",
   "execution_count": 52,
   "id": "expressed-client",
   "metadata": {},
   "outputs": [],
   "source": [
    "from scipy.stats import ttest_1samp\n",
    "from scipy.stats import norm\n",
    "import math\n",
    "from scipy.stats import t\n",
    "import pandas as pd\n",
    "import statistics as stats"
   ]
  },
  {
   "cell_type": "markdown",
   "id": "armed-luxembourg",
   "metadata": {},
   "source": [
    "\n",
    "Instructions\n",
    "\n",
    "We will have another simple example on two sample t test (pooled- when the variances are equal). But this time this is a one sided t-test\n",
    "In a packing plant, a machine packs cartons with jars. It is supposed that a new machine will pack faster on the average than the machine currently used. To test that hypothesis, the times it takes each machine to pack ten cartons are recorded. The results, in seconds, are shown in the tables in the file files_for_lab/machine.txt. Assume that there is sufficient evidence to conduct the t test, does the data provide sufficient evidence to show if one machine is better than the other"
   ]
  },
  {
   "cell_type": "markdown",
   "id": "infectious-mission",
   "metadata": {},
   "source": [
    "New machine\t    Old machine\n",
    "42.1\t        42.7\n",
    "41\t            43.6\n",
    "41.3\t        43.8\n",
    "41.8\t        43.3\n",
    "42.4\t        42.5\n",
    "42.8\t        43.5\n",
    "43.2\t        43.1\n",
    "42.3\t        41.7\n",
    "41.8\t        44\n",
    "42.7\t        44.1"
   ]
  },
  {
   "cell_type": "code",
   "execution_count": null,
   "id": "inner-raise",
   "metadata": {},
   "outputs": [],
   "source": [
    "New machine\t    Old machine\n",
    "42.1\t        42.7\n",
    "41\t            43.6\n",
    "41.3\t        43.8\n",
    "41.8\t        43.3\n",
    "42.4\t        42.5\n",
    "42.8\t        43.5\n",
    "43.2\t        43.1\n",
    "42.3\t        41.7\n",
    "41.8\t        44\n",
    "42.7\t        44.1"
   ]
  },
  {
   "cell_type": "code",
   "execution_count": 44,
   "id": "guided-position",
   "metadata": {},
   "outputs": [],
   "source": [
    "new= [42.1,41,41.3,41.8,42.4,42.8,43.2,42.3,41.8,42.7]"
   ]
  },
  {
   "cell_type": "code",
   "execution_count": 50,
   "id": "outstanding-priest",
   "metadata": {},
   "outputs": [],
   "source": [
    "old= [42.7,43.6,43.8,43.3,42.5,43.5,43.1,41.7,44,44.1]"
   ]
  },
  {
   "cell_type": "code",
   "execution_count": 58,
   "id": "removable-baltimore",
   "metadata": {},
   "outputs": [
    {
     "data": {
      "text/plain": [
       "42.14"
      ]
     },
     "execution_count": 58,
     "metadata": {},
     "output_type": "execute_result"
    }
   ],
   "source": [
    "sample_mean= stats.mean(new)\n",
    "sample_mean"
   ]
  },
  {
   "cell_type": "code",
   "execution_count": 60,
   "id": "efficient-defendant",
   "metadata": {},
   "outputs": [
    {
     "data": {
      "text/plain": [
       "43.230000000000004"
      ]
     },
     "execution_count": 60,
     "metadata": {},
     "output_type": "execute_result"
    }
   ],
   "source": [
    "pop_mean=stats.mean(old)\n",
    "pop_mean"
   ]
  },
  {
   "cell_type": "code",
   "execution_count": 59,
   "id": "graphic-venture",
   "metadata": {},
   "outputs": [
    {
     "data": {
      "text/plain": [
       "0.6834552736727638"
      ]
     },
     "execution_count": 59,
     "metadata": {},
     "output_type": "execute_result"
    }
   ],
   "source": [
    "sample_std= stats.stdev(new)\n",
    "sample_std"
   ]
  },
  {
   "cell_type": "code",
   "execution_count": 56,
   "id": "hindu-fairy",
   "metadata": {},
   "outputs": [
    {
     "data": {
      "text/plain": [
       "0.7498888806572158"
      ]
     },
     "execution_count": 56,
     "metadata": {},
     "output_type": "execute_result"
    }
   ],
   "source": [
    "stats.stdev(old)"
   ]
  },
  {
   "cell_type": "code",
   "execution_count": 62,
   "id": "continuous-ranch",
   "metadata": {},
   "outputs": [],
   "source": [
    "n=10"
   ]
  },
  {
   "cell_type": "code",
   "execution_count": 63,
   "id": "infinite-macintosh",
   "metadata": {},
   "outputs": [
    {
     "data": {
      "text/plain": [
       "-4.7845120609394485"
      ]
     },
     "execution_count": 63,
     "metadata": {},
     "output_type": "execute_result"
    }
   ],
   "source": [
    "#t-test\n",
    "statistic = (sample_mean-pop_mean)/(sample_std/math.sqrt(n-1))\n",
    "statistic"
   ]
  },
  {
   "cell_type": "code",
   "execution_count": 64,
   "id": "southern-mining",
   "metadata": {},
   "outputs": [
    {
     "data": {
      "text/plain": [
       "42.51472796191992"
      ]
     },
     "execution_count": 64,
     "metadata": {},
     "output_type": "execute_result"
    }
   ],
   "source": [
    "#confidence interval\n",
    "absoluteZ=abs(norm.ppf(0.05))\n",
    "upperCI=sample_mean+absoluteZ*sample_std/math.sqrt(n-1)\n",
    "upperCI"
   ]
  },
  {
   "cell_type": "code",
   "execution_count": 65,
   "id": "accurate-wheel",
   "metadata": {},
   "outputs": [
    {
     "data": {
      "text/plain": [
       "41.765272038080084"
      ]
     },
     "execution_count": 65,
     "metadata": {},
     "output_type": "execute_result"
    }
   ],
   "source": [
    "lowerCI=sample_mean-absoluteZ*sample_std/math.sqrt(n-1)\n",
    "lowerCI"
   ]
  },
  {
   "cell_type": "markdown",
   "id": "changing-shoulder",
   "metadata": {},
   "source": [
    "### In this case we can't assume that the population variances are equal. Hence in this case we cannot pool the variances. Independent random samples of 17 sophomores and 13 juniors attending a large university yield the following data on grade point averages. Data is provided in the file files_for_lab/student_gpa.txt. At the 5% significance level, do the data provide sufficient evidence to conclude that the mean GPAs of sophomores and juniors at the university differ?"
   ]
  },
  {
   "cell_type": "markdown",
   "id": "acoustic-carpet",
   "metadata": {},
   "source": [
    "Sophomores\t  Juniors\n",
    "3.04\t        2.56\n",
    "1.71\t        2.77\n",
    "3.3\t          2.7\n",
    "2.88\t        3\n",
    "2.11\t        2.98\n",
    "2.6\t          3.47\n",
    "2.92\t        3.26\n",
    "3.6\t          3.2\n",
    "2.28\t        3.19\n",
    "2.82\t        2.65\n",
    "3.03\t        3\n",
    "3.13\t        3.39\n",
    "2.86\t        2.58\n",
    "3.49\t\n",
    "3.11\t\n",
    "2.13\t\n",
    "3.27\n"
   ]
  },
  {
   "cell_type": "code",
   "execution_count": 66,
   "id": "higher-wrong",
   "metadata": {},
   "outputs": [],
   "source": [
    "sopho= [3.04,1.71,3.3,2.88,2.11,2.6,2.92,3.6,2.28,2.82,3.03,3.13,2.86,3.49,3.11,2.13,3.27]"
   ]
  },
  {
   "cell_type": "code",
   "execution_count": 67,
   "id": "protecting-saver",
   "metadata": {},
   "outputs": [],
   "source": [
    "jun= [2.56,2.77,2.7,3,2.98,3.47,3.26,3.2,3.19,2.65,3,3.39,2.58]"
   ]
  },
  {
   "cell_type": "code",
   "execution_count": 71,
   "id": "curious-lebanon",
   "metadata": {},
   "outputs": [
    {
     "data": {
      "text/plain": [
       "2.84"
      ]
     },
     "execution_count": 71,
     "metadata": {},
     "output_type": "execute_result"
    }
   ],
   "source": [
    "sopho_mean= stats.mean(sopho)\n",
    "sopho_mean"
   ]
  },
  {
   "cell_type": "code",
   "execution_count": 72,
   "id": "temporal-spread",
   "metadata": {},
   "outputs": [
    {
     "data": {
      "text/plain": [
       "2.980769230769231"
      ]
     },
     "execution_count": 72,
     "metadata": {},
     "output_type": "execute_result"
    }
   ],
   "source": [
    "jun_mean= stats.mean(jun)\n",
    "jun_mean"
   ]
  },
  {
   "cell_type": "code",
   "execution_count": 73,
   "id": "comparable-rough",
   "metadata": {},
   "outputs": [
    {
     "data": {
      "text/plain": [
       "0.5198317035349037"
      ]
     },
     "execution_count": 73,
     "metadata": {},
     "output_type": "execute_result"
    }
   ],
   "source": [
    "sopho_std= stats.stdev(sopho)\n",
    "sopho_std"
   ]
  },
  {
   "cell_type": "code",
   "execution_count": 74,
   "id": "ordinary-commonwealth",
   "metadata": {},
   "outputs": [
    {
     "data": {
      "text/plain": [
       "0.3092588327615327"
      ]
     },
     "execution_count": 74,
     "metadata": {},
     "output_type": "execute_result"
    }
   ],
   "source": [
    "jun_std= stats.stdev(jun)\n",
    "jun_std"
   ]
  },
  {
   "cell_type": "code",
   "execution_count": 75,
   "id": "czech-westminster",
   "metadata": {},
   "outputs": [],
   "source": [
    "n1=17\n",
    "n2=13"
   ]
  },
  {
   "cell_type": "code",
   "execution_count": 76,
   "id": "impossible-edmonton",
   "metadata": {},
   "outputs": [
    {
     "data": {
      "text/plain": [
       "-0.9231495630900276"
      ]
     },
     "execution_count": 76,
     "metadata": {},
     "output_type": "execute_result"
    }
   ],
   "source": [
    "#t-test\n",
    "statistic = (sopho_mean-jun_mean)/math.sqrt(((sopho_std**2)/n1)+((jun_std**2)/n2))\n",
    "statistic"
   ]
  },
  {
   "cell_type": "code",
   "execution_count": null,
   "id": "related-decline",
   "metadata": {},
   "outputs": [],
   "source": []
  }
 ],
 "metadata": {
  "kernelspec": {
   "display_name": "Python 3",
   "language": "python",
   "name": "python3"
  },
  "language_info": {
   "codemirror_mode": {
    "name": "ipython",
    "version": 3
   },
   "file_extension": ".py",
   "mimetype": "text/x-python",
   "name": "python",
   "nbconvert_exporter": "python",
   "pygments_lexer": "ipython3",
   "version": "3.8.8"
  }
 },
 "nbformat": 4,
 "nbformat_minor": 5
}
